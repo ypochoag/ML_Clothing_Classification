{
  "nbformat": 4,
  "nbformat_minor": 0,
  "metadata": {
    "colab": {
      "provenance": [],
      "collapsed_sections": [],
      "include_colab_link": true
    },
    "kernelspec": {
      "name": "python3",
      "display_name": "Python 3"
    }
  },
  "cells": [
    {
      "cell_type": "markdown",
      "metadata": {
        "id": "view-in-github",
        "colab_type": "text"
      },
      "source": [
        "<a href=\"https://colab.research.google.com/github/ypochoag/ML_Clothing_Classification/blob/main/ML_Clothing_Classification_.ipynb\" target=\"_parent\"><img src=\"https://colab.research.google.com/assets/colab-badge.svg\" alt=\"Open In Colab\"/></a>"
      ]
    },
    {
      "cell_type": "markdown",
      "metadata": {
        "id": "L2dO6NZ9GwKJ"
      },
      "source": [
        "# **Proyecto Aplicado**\n",
        "##**Modulo 2:** ***introducción a Machine Learning con Python***\n",
        "### *Presentado por:* \n",
        "*   Yuri Ochoa Guerrero - Ingeniera Agricola e Industrial \n",
        "*   Eduardo Luna Silva - Ingeniero Mecatronico \n",
        "---\n",
        "|            | ![Fashion-mnist](https://peltarion.com/static/fashion-mnist_long.png)| \n",
        "|    ---        |            |\n",
        "\n",
        "---\n",
        "\n",
        "\n",
        "Importamos las librerias a usar y demás elementos de utilidad:"
      ]
    },
    {
      "cell_type": "code",
      "metadata": {
        "id": "TQq8T3zP2sLd",
        "colab": {
          "base_uri": "https://localhost:8080/"
        },
        "outputId": "dd5967d2-5002-41dc-b831-ae28c647f5e0"
      },
      "source": [
        "#Importar librerías \n",
        "import numpy as np\n",
        "import pandas as pd\n",
        "import matplotlib.pyplot as plt\n",
        "import matplotlib as mpl\n",
        "\n",
        "#Libreria para componentes minimos principales:\n",
        "from sklearn.decomposition import PCA\n",
        "\n",
        "#Libreria modelo Gausiano y validación cruzada:\n",
        "from sklearn.naive_bayes import GaussianNB\n",
        "from sklearn.model_selection import cross_val_score\n",
        "\n",
        "# Tratamiento de imagenes:\n",
        "from PIL import Image\n",
        "import urllib.request\n",
        "import PIL.ImageOps \n",
        "\n",
        "%matplotlib inline\n",
        "\n",
        "!python --version\n",
        "print(f'pandas { pd.__version__}')\n",
        "print(f'NumPy { np.__version__}')\n",
        "print(f'Matplotlib { mpl.__version__}')"
      ],
      "execution_count": null,
      "outputs": [
        {
          "output_type": "stream",
          "text": [
            "Python 3.6.9\n",
            "pandas 1.1.4\n",
            "NumPy 1.18.5\n",
            "Matplotlib 3.2.2\n"
          ],
          "name": "stdout"
        }
      ]
    },
    {
      "cell_type": "markdown",
      "metadata": {
        "id": "DHdLuBDCQF8Q"
      },
      "source": [
        "#***1 - Entendimiento del negocio***\n",
        "\n",
        "\n",
        "---\n",
        "\n",
        "\n"
      ]
    },
    {
      "cell_type": "markdown",
      "metadata": {
        "id": "iZ_DW2QtaPvd"
      },
      "source": [
        "###**A. Objetivos de negocio:**\n",
        "Como aplicación academia se propone dar solución a un problema de clasificación usando el Dataset Fashion-MNIST, pero, a modo de ilustración se tomará el problema situado bajo el siguiente escenario:\n",
        "Una empresa de venta de ropa en Colombia abre sus puertas nuevamente, después de haber vivido las consecuencias de la pandemia ocasionada por el Covid-19 en otros países y pensando en la seguridad de las personas, decide automatizar completamente sus tiendas, su ideal, es mantener el contacto entre personal, clientes y prendas en lo más mínimo, así mismo como, reducir el tiempo de permanencia de personas en la tienda, entre todas las ideas que planteadas y las inversiones realizadas en equipos de bodegaje automático e interfaces de interacción, con el ánimo de reducir todo tipo de contacto, una de ellas es la identificación automática de prendas, el personal solo debe encargarse de colgar todos los elementos en ganchos y colocarlos en la entrada del sistema de bodegaje automático, a nosotros nos contrataron para realizar la identificación de la prenda y enviar una etiqueta al sistema para que pueda posicionarla en la sección indicada, de tal manera que cuando alguno de los clientes requiera ver las prendas de una sección, solo se le muestren del tipo que el selecciono; este desarrollo reducirá contacto entre el personal con los clientes, ya que ellos interactuaran con el sistema de bodegaje automático mediante una interfaz, que a su vez reduce el contacto con las prendas, dado que los clientes no tocaran ninguna prenda para realizar labores de búsqueda, todo se realizara mediante visualización automática y solo se entregara al cliente cuando este tome la decisión de llevarla.\n",
        "\n",
        "Es necesario que el algoritmo funcione con el menor error posible, dado que, de no hacerlo, el personal deberá realizar las correcciones ingresando a la bodega y cambiando la prenda de sección, además que a futuro la empresa desea implementar nuevas prendas como sombreros y accesorios, ellos nos contratarían para realizar el desarrollo, si existe una tasa de éxito elevada.\n"
      ]
    },
    {
      "cell_type": "markdown",
      "metadata": {
        "id": "n0a6Essdbzuj"
      },
      "source": [
        "###**B. Metas del proyecto de machine learning:**\n",
        "Como se indicó anteriormente, el objetivo principal es obtener un algoritmo de clasificación que nos permita tener el menor error posible, para dar cumplimiento del objetivo se abordara el problema mediante las siguientes metas parciales:\n",
        "\n",
        "-\tExploración de los datos suministrados por el cliente para lograr una organización óptima para el desarrollo de la aplicación.\n",
        "\n",
        "-\tPrueba de diferentes modelos con el animo de realizar una comparación entre ellos y seleccionar el que tenga una mayor tasa de éxito en su evaluación.\n",
        "\n",
        "-\tPrueba de selección con una muestra externa a los datos base.\n"
      ]
    },
    {
      "cell_type": "markdown",
      "metadata": {
        "id": "fAvzgoEFR04w"
      },
      "source": [
        "#***2 - Entendimiento de los datos***\n"
      ]
    },
    {
      "cell_type": "markdown",
      "metadata": {
        "id": "5LTjBCWMeLfR"
      },
      "source": [
        "###**A. Recolección inicial de datos:**"
      ]
    },
    {
      "cell_type": "markdown",
      "metadata": {
        "id": "okS9Ir68rx7A"
      },
      "source": [
        "Los datos que usaremos seran tomados del Dataset [**Fashion MINST**](https://www.kaggle.com/zalando-research/fashionmnist) suministrados por una tienda de moda online alemana llamada Zalando, que para nuestro ejemplo de aplicación, es la que abriria su nueva sucursal en Colombia, en este caso tenemos que los datos de entrenamiento y de prueba ya se encuentran separados y en dos archivos distintos, estos archivos se subieron a una carpeta en Dropbox, se intento realizar la aplicación con una carpeta de Drive, pero, al tener que aceptar descarga bajo responsabilidad del usuario por posibles virus, debido a lo pesado del archivo, se tuvo que seleccionar Dropbox; se dejaron publicos y se obtuvo el link de descarga directa, esto para lograr obtener los datos desde el notebook directamente sin necesidad de cargarlos en el proyecto."
      ]
    },
    {
      "cell_type": "code",
      "metadata": {
        "id": "CnV-6WLjtZ2U"
      },
      "source": [
        "# Llamamos los datos entrenamiento y prueba:\n",
        "URL_train = 'https://www.dropbox.com/s/wconz2juzb2k93j/fashion-mnist_train.csv?dl=1'\n",
        "D_train = pd.read_csv(URL_train)\n",
        "\n",
        "URL_test = 'https://www.dropbox.com/s/n2lsk0w68sx2mha/fashion-mnist_test.csv?dl=1'\n",
        "D_test = pd.read_csv(URL_test)"
      ],
      "execution_count": null,
      "outputs": []
    },
    {
      "cell_type": "markdown",
      "metadata": {
        "id": "xbUGK_Y5eW_S"
      },
      "source": [
        "###**B. Descripción de los datos:**"
      ]
    },
    {
      "cell_type": "markdown",
      "metadata": {
        "id": "unW49zE1FUvq"
      },
      "source": [
        "Para tener una idea clara de los datos que se nos suministran miramos los 5 primeros items de cada uno de los archivos cargados, esto con la intensión de confirmar que tengan la misma forma, tamaño y variables, para que no se vaya a tener problemas a la hora de probar los algoritmos una vez que ya se encuentren entrenados, así mismo para poder identificar donde se encuentran las etiquetas y la información. "
      ]
    },
    {
      "cell_type": "code",
      "metadata": {
        "id": "hR2JenblEc9_",
        "colab": {
          "base_uri": "https://localhost:8080/"
        },
        "outputId": "6251ae1f-7a24-4e65-901c-fa768a28f9fc"
      },
      "source": [
        "print(D_train.head(5))\n",
        "print(D_test.head(5))"
      ],
      "execution_count": null,
      "outputs": [
        {
          "output_type": "stream",
          "text": [
            "   label  pixel1  pixel2  pixel3  ...  pixel781  pixel782  pixel783  pixel784\n",
            "0      2       0       0       0  ...         0         0         0         0\n",
            "1      9       0       0       0  ...         0         0         0         0\n",
            "2      6       0       0       0  ...         0         0         0         0\n",
            "3      0       0       0       0  ...         0         0         0         0\n",
            "4      3       0       0       0  ...         0         0         0         0\n",
            "\n",
            "[5 rows x 785 columns]\n",
            "   label  pixel1  pixel2  pixel3  ...  pixel781  pixel782  pixel783  pixel784\n",
            "0      0       0       0       0  ...         0         0         0         0\n",
            "1      1       0       0       0  ...         0         0         0         0\n",
            "2      2       0       0       0  ...        31         0         0         0\n",
            "3      2       0       0       0  ...       222        56         0         0\n",
            "4      3       0       0       0  ...         0         0         0         0\n",
            "\n",
            "[5 rows x 785 columns]\n"
          ],
          "name": "stdout"
        }
      ]
    },
    {
      "cell_type": "markdown",
      "metadata": {
        "id": "TN97T00TXJhp"
      },
      "source": [
        "Tal como se indicaba en los textos que describen el dataset, la información esta organizada de tal manera que en la primera columna se encuentra la información de las etiquetas:\n",
        "```\n",
        "# Descripción de Labels:\n",
        "\n",
        "0 - Camiseta / top\n",
        "1 - Pantalón\n",
        "2 - Suéter\n",
        "3 - Vestido\n",
        "4 - Abrigo\n",
        "5 - Sandalia\n",
        "6 - Camiseta\n",
        "7 - Zapatilla\n",
        "8 - Bolsa\n",
        "9 - Bota de tobillo\n",
        "\n",
        "```"
      ]
    },
    {
      "cell_type": "markdown",
      "metadata": {
        "id": "g3ME0LFDHc0k"
      },
      "source": [
        "Seguido la información de cada uno de los pixeles que describen la fotografia correspondiente a la etiqueta, son en total 784 (28X28) cada pixel tiene un valor entero entre 0 y 255 siendo representados en escala de grises 0 blanco y 255 negro, si se requiere obtener algun valor de la fotografia en coordenadas de filas(i) y columnas(j) se puede hacer uso de la siguiente ecuación  Pix = i * 28 + j, a continuación veremos cuantos datos tenemos para relizar el entrenamiento y las pruebas de nuestros algoritmos."
      ]
    },
    {
      "cell_type": "code",
      "metadata": {
        "id": "1YMOb814H1z8",
        "colab": {
          "base_uri": "https://localhost:8080/"
        },
        "outputId": "ca4fccc4-3e86-4e9d-b396-816fb4a1cb54"
      },
      "source": [
        "print(\"Datos para entrenar nuestro modelo:\", D_train.index.size)\n",
        "print(\"Datos para probar nuestro modelo:\",D_test.index.size)\n",
        "print(\"Total de datos:\", ( D_train.index.size + D_test.index.size))\n"
      ],
      "execution_count": null,
      "outputs": [
        {
          "output_type": "stream",
          "text": [
            "Datos para entrenar nuestro modelo: 60000\n",
            "Datos para probar nuestro modelo: 10000\n",
            "Total de datos: 70000\n"
          ],
          "name": "stdout"
        }
      ]
    },
    {
      "cell_type": "markdown",
      "metadata": {
        "id": "P7Q9y1O5ZHrQ"
      },
      "source": [
        "Esto quiere decir que tenemos un **14,28 %** de los datos para realizar las prueba y un  **85,72 %** para entrenar a nuestro modelo, dado que las proporciones estan en buen medida se dejaran asi y se comprobara que se encuentren bien distribuidas con respecto a las etiquetas. "
      ]
    },
    {
      "cell_type": "markdown",
      "metadata": {
        "id": "1Yn4-gdhei1f"
      },
      "source": [
        "###**C. Exploración de los datos:**"
      ]
    },
    {
      "cell_type": "markdown",
      "metadata": {
        "id": "p8FAYNz0UDlS"
      },
      "source": [
        "Para poder definir si se puede trabajar con la distribución que se plantea de los datos de entrenamiento y de prueba, primero es necesario encontrar la proporción de muestras por etiqueta en cada uno de los archivos, ya que si no se encuentran distribuidas de manera homogenea lo mejor es unir los dos archivos y volver a realizar la separación con la función **train_test_split** teniendo en cuenta las etiquetas."
      ]
    },
    {
      "cell_type": "code",
      "metadata": {
        "id": "Xrhu9p-BXZvV",
        "colab": {
          "base_uri": "https://localhost:8080/"
        },
        "outputId": "56ff010a-cecd-429f-957d-f724dfe75961"
      },
      "source": [
        "print(\"Cantidad de fotos de cada clase para entrenar:\\n\", D_train['label'].value_counts())\n",
        "print(\"\\nCantidad de fotos de cada clase para probar:\\n\",D_test['label'].value_counts())"
      ],
      "execution_count": null,
      "outputs": [
        {
          "output_type": "stream",
          "text": [
            "Cantidad de fotos de cada clase para entrenar:\n",
            " 9    6000\n",
            "8    6000\n",
            "7    6000\n",
            "6    6000\n",
            "5    6000\n",
            "4    6000\n",
            "3    6000\n",
            "2    6000\n",
            "1    6000\n",
            "0    6000\n",
            "Name: label, dtype: int64\n",
            "\n",
            "Cantidad de fotos de cada clase para probar:\n",
            " 7    1000\n",
            "6    1000\n",
            "5    1000\n",
            "4    1000\n",
            "3    1000\n",
            "2    1000\n",
            "9    1000\n",
            "1    1000\n",
            "8    1000\n",
            "0    1000\n",
            "Name: label, dtype: int64\n"
          ],
          "name": "stdout"
        }
      ]
    },
    {
      "cell_type": "markdown",
      "metadata": {
        "id": "ssfCAkaOO-28"
      },
      "source": [
        "Como se puede observar todos los datos se encuentran perfectamente balanceados, asi que los usaremos para realizar el entrenamiento y la prueba tal como nos lo entrega el Dataset, no vemos necesidad de realizar una distribución adicional.\n",
        "\n",
        "Ahora, sabiendo que cada uno de los datos en realidad es una imagen, es necesario crear herramientas para visualizarlos de una forma gráfica, por esto se crea la siguiente función:"
      ]
    },
    {
      "cell_type": "code",
      "metadata": {
        "id": "5l1K_lB8f80A"
      },
      "source": [
        "def show_picture(image, title=''):\n",
        "  plt.figure(dpi = 50)\n",
        "  plt.imshow(image.reshape(28,28), cmap = 'gray')\n",
        "  plt.axis('off')\n",
        "  plt.title(title)\n",
        "  plt.show()"
      ],
      "execution_count": null,
      "outputs": []
    },
    {
      "cell_type": "code",
      "metadata": {
        "id": "Ri8ahkmmgXX7",
        "colab": {
          "base_uri": "https://localhost:8080/",
          "height": 361
        },
        "outputId": "a9744316-bcaf-4188-9fe2-1abb0bddeacd"
      },
      "source": [
        "# Se separan las etiquetas del conjunto de datos:\n",
        "Label_Train = np.array(D_train['label'])\n",
        "Label_Test = np.array(D_test['label'])\n",
        "\n",
        "# Se retiran las etiquetas para obtener la Data:\n",
        "Data_Train = np.array(D_train.drop('label', axis=1))\n",
        "Data_Test = np.array(D_test.drop('label', axis=1))\n",
        "\n",
        "# Probamos la función creada:\n",
        "show_picture(Data_Train[12], Label_Train[12])\n",
        "show_picture(Data_Test[12], Label_Test[12])"
      ],
      "execution_count": null,
      "outputs": [
        {
          "output_type": "display_data",
          "data": {
            "image/png": "[encoded data removed]",
            "text/plain": [
              "<Figure size 300x200 with 1 Axes>"
            ]
          },
          "metadata": {
            "tags": [],
            "needs_background": "light"
          }
        },
        {
          "output_type": "display_data",
          "data": {
            "image/png": "[encoded data removed]",
            "text/plain": [
              "<Figure size 300x200 with 1 Axes>"
            ]
          },
          "metadata": {
            "tags": [],
            "needs_background": "light"
          }
        }
      ]
    },
    {
      "cell_type": "markdown",
      "metadata": {
        "id": "G4-fi9yoRjgY"
      },
      "source": [
        "Como se puede evidenciar, los datos fueron graficados con exito gracias al metodo de visualización de **Matplotlib - imshow** y se distingue el tipo de prenda al cual hacen referencia. "
      ]
    },
    {
      "cell_type": "markdown",
      "metadata": {
        "id": "r7Gek50Yeosu"
      },
      "source": [
        "###**D. Verificación de la calidad de los datos:**  "
      ]
    },
    {
      "cell_type": "markdown",
      "metadata": {
        "id": "ewPkc6lUcaov"
      },
      "source": [
        "Para lograr esta etapa, se visualizara el contenido de los primeros 20 datos de cada uno de los conjuntos de datos que tenemos, tal como se muestra a continuación."
      ]
    },
    {
      "cell_type": "code",
      "metadata": {
        "id": "9og4PgcrOaOQ",
        "colab": {
          "base_uri": "https://localhost:8080/",
          "height": 165
        },
        "outputId": "65573a2e-75c3-436f-917d-0a5eca5911a8"
      },
      "source": [
        "# Graficación de datos de entrenamiento:\n",
        "fig = plt.figure(figsize=(10,6))\n",
        "for i in range(20):\n",
        "    ax = fig.add_subplot(5,10,i+1)\n",
        "    plt.imshow(Data_Train[i].reshape(28,28), interpolation=\"nearest\", cmap = plt.cm.Greys_r)\n",
        "    ax.set_title(int(Label_Train[i]))\n",
        "    plt.xticks([]); plt.yticks([])"
      ],
      "execution_count": null,
      "outputs": [
        {
          "output_type": "display_data",
          "data": {
            "image/png": "[encoded data removed]",
            "text/plain": [
              "<Figure size 720x432 with 20 Axes>"
            ]
          },
          "metadata": {
            "tags": []
          }
        }
      ]
    },
    {
      "cell_type": "code",
      "metadata": {
        "id": "1V9CHfdYWFQI",
        "colab": {
          "base_uri": "https://localhost:8080/",
          "height": 165
        },
        "outputId": "6ae41b41-e797-408d-a2c4-17ef9f59f09e"
      },
      "source": [
        "# Graficación de datos de prueba:\n",
        "fig = plt.figure(figsize=(10,6))\n",
        "for i in range(20):\n",
        "    ax = fig.add_subplot(5,10,i+1)\n",
        "    plt.imshow(Data_Test[i].reshape(28,28), interpolation=\"nearest\", cmap = plt.cm.Greys_r)\n",
        "    ax.set_title(int(Label_Test[i]))\n",
        "    plt.xticks([]); plt.yticks([])"
      ],
      "execution_count": null,
      "outputs": [
        {
          "output_type": "display_data",
          "data": {
            "image/png": "[encoded data removed]",
            "text/plain": [
              "<Figure size 720x432 with 20 Axes>"
            ]
          },
          "metadata": {
            "tags": []
          }
        }
      ]
    },
    {
      "cell_type": "markdown",
      "metadata": {
        "id": "q1D98DXEWOxw"
      },
      "source": [
        "Una vez confirmado que los datos dentro de los dos archivos tienen efetivamente las fotografias de las prendas y al haber graficado diferentes posiciones de los conjuntos de datos, es posible continuar con la preparación de los mismos para poder entrenar nuestro modelo."
      ]
    },
    {
      "cell_type": "markdown",
      "metadata": {
        "id": "WBwoGpmcM2Fj"
      },
      "source": [
        "#***3 - Preparacion de los Datos***\n",
        "\n",
        "---\n"
      ]
    },
    {
      "cell_type": "markdown",
      "metadata": {
        "id": "iR7rrLhZoMry"
      },
      "source": [
        "###**A. Selección de datos finales:**  "
      ]
    },
    {
      "cell_type": "markdown",
      "metadata": {
        "id": "onx7L0pZ4ylq"
      },
      "source": [
        "Se nombran de manera adecuada los datos que ya fueron tratados en la estapa anterior, de tal manera que sean familiares para entrenarlos y evaluarlos tal y como se han manejado en el curso, es decir, los conjuntos de datos (X,Y). "
      ]
    },
    {
      "cell_type": "code",
      "metadata": {
        "id": "N5DOBBD3Wxv1"
      },
      "source": [
        "# Conjunto de entrenamiento:\n",
        "X_train = Data_Train\n",
        "y_train = Label_Train\n",
        "\n",
        "# Conjunto de prueba:\n",
        "X_test = Data_Test\n",
        "y_test = Label_Test"
      ],
      "execution_count": null,
      "outputs": []
    },
    {
      "cell_type": "markdown",
      "metadata": {
        "id": "QfnXnaaRoFoR"
      },
      "source": [
        "###**B. Limpieza de los datos:**  "
      ]
    },
    {
      "cell_type": "markdown",
      "metadata": {
        "id": "dVM8XiXf1jeO"
      },
      "source": [
        "Debido a que el conjunto de datos es un Dataset bastante conocido, usado en aprendizaje de maquina y se confirmó que se encuentra en conduciones optimas para ser trabajado, no existe necesidad de realizar tareas de limpieza de datos.  "
      ]
    },
    {
      "cell_type": "markdown",
      "metadata": {
        "id": "jGncnRYanlGA"
      },
      "source": [
        "#***4 - Modelamiento***\n",
        "\n",
        "---"
      ]
    },
    {
      "cell_type": "markdown",
      "metadata": {
        "id": "okpRyCffowBs"
      },
      "source": [
        "###**A. Selección de modelo apropiado:**  "
      ]
    },
    {
      "cell_type": "markdown",
      "metadata": {
        "id": "j0Rt0JxxZvad"
      },
      "source": [
        "Teniendo en cuenta que la identificación de las imagenes corresponde a un problema de **clasificación** y es necesario el uso de una data historica para el entrenamiento del módelo (en este caso fotografias de diferentes prendas de ropa) el módelo a usar es uno de **aprendizaje supervisado**.\n",
        "\n",
        "Como se trabaja con imagenes y estas son datos de alta dimensionalidad, es apropiado reducir las características necesarias para representar un mínimo de información, por lo tanto, se usará el algoritmo de **componentes principales minimos**, se probara el modelo con la cantidad de componentes necesarios para obtener las siguientes varianzas:\n",
        "\n",
        "- Varianza 0.5.\n",
        "- Varianza 0.75.\n",
        "- Varianza 0.95.\n",
        "\n"
      ]
    },
    {
      "cell_type": "markdown",
      "metadata": {
        "id": "kMCPnGX_ft2s"
      },
      "source": [
        "Para lograr visualizar de manera facil y mediante una gáfica la cantidad de componentes a usar para llegar a una varianza objetivo se implementa la siguiente función:"
      ]
    },
    {
      "cell_type": "code",
      "metadata": {
        "id": "-NOk1YPOfDA9"
      },
      "source": [
        "# Gráfica de la varianza explicada acumulada.\n",
        "def cumulative_explained_variance_plot(expl_variance):\n",
        "  cum_var_exp = np.cumsum(expl_variance)\n",
        "  plt.figure(dpi = 70, figsize = (15, 6))\n",
        "  plt.title('Curva acumulativa de la varianza explicada versus número de componentes principales')\n",
        "  plt.xlabel('Número de componentes principales')\n",
        "  plt.ylabel('Varianza explicada acumulativa')  \n",
        "  nc = np.arange(1, expl_variance.shape[0] + 1)\n",
        "  plt.plot(nc, cum_var_exp, '--r')\n",
        "  plt.plot(nc, cum_var_exp, 'c*', ms = 5) \n",
        "  plt.grid() \n",
        "  plt.show()"
      ],
      "execution_count": null,
      "outputs": []
    },
    {
      "cell_type": "markdown",
      "metadata": {
        "id": "bhf_WW9Lif7S"
      },
      "source": [
        "Para obtener el valor exacto de los componentes que se deben usar, se implementa la siguiente función:"
      ]
    },
    {
      "cell_type": "code",
      "metadata": {
        "id": "HoZNTp38g7X6"
      },
      "source": [
        "def componentes_minimos(min_varz, X):\n",
        "  pca = PCA(n_components=None)\n",
        "  pca.fit_transform(X)\n",
        "  var_cum = np.cumsum(pca.explained_variance_ratio_)\n",
        "  var_sel = var_cum[var_cum >= min_varz][1]\n",
        "  min_comp = list(var_cum).index(var_sel)\n",
        "  print(f'Se necesita por lo menos {min_comp} componentes para una varianza explicada de {min_varz}.')"
      ],
      "execution_count": null,
      "outputs": []
    },
    {
      "cell_type": "markdown",
      "metadata": {
        "id": "ykg83CY6fOqF"
      },
      "source": [
        "\n",
        "Se entrenaran los modelos PCA con el numero de componentes minimos seleccionados con la ayuda de la función definida anteriormente, se transformaran los datos originales para intentar obtener un mejor rendimiento del modelo, se visualizaran los datos mediante la transformada inversa de los mismos, para confirmar que tanta información se perdio, para ello se hace uso de la siguiente función.\n",
        "\n"
      ]
    },
    {
      "cell_type": "code",
      "metadata": {
        "id": "D0QRHXquoFWa"
      },
      "source": [
        "def pca_transform(X, n_comp, n_item):\n",
        "  pca = PCA(n_components=n_comp)\n",
        "  Xp = pca.fit_transform(X)\n",
        "  Xr = pca.inverse_transform(Xp[n_item])\n",
        "  if n_item > 0:\n",
        "    show_picture(X[n_item], \"Original\")\n",
        "    show_picture(Xr.reshape(28,28), \"Transformada\")\n",
        "    \n",
        "  return Xp"
      ],
      "execution_count": null,
      "outputs": []
    },
    {
      "cell_type": "markdown",
      "metadata": {
        "id": "09ryDyd5oGIa"
      },
      "source": [
        "Por ultimo se implementara un clasificador bayesiano con el método **sklearn.naive_bayes.GaussianNB** y se evaluara con los datos originales y los obtenidos de las transformación PCA para los tres casos planteados anteriormente."
      ]
    },
    {
      "cell_type": "markdown",
      "metadata": {
        "id": "5D8h1BEcp50H"
      },
      "source": [
        "###**B. Diseño de la experimentación:**  "
      ]
    },
    {
      "cell_type": "markdown",
      "metadata": {
        "id": "_s5KleH1ZzR9"
      },
      "source": [
        "Tal como se indico en la sección anterior, se pretente entrenar varios modelos usando un clasificador bayesiano, pero, con datos a los cuales se les realizara una reducción de dimensionalidad con ayuda del algoritmo PCA, se tomaran tres casos con diferentes cantidad de componenetes principales y se realizara la correspondiente validación cruzada para cada uno de ellos, buscando cual de todos realiza una mejor clasificación.\n",
        "\n",
        "A continuación se calcularan los componentes minimos para las varianzas propuestas:"
      ]
    },
    {
      "cell_type": "code",
      "metadata": {
        "id": "pgyA8eWviOhm",
        "colab": {
          "base_uri": "https://localhost:8080/",
          "height": 446
        },
        "outputId": "b66c6b72-e06b-41e6-f8a1-752bcab801e8"
      },
      "source": [
        "pca = PCA()\n",
        "transf = pca.fit_transform(X_train)\n",
        "varianza_expl = pca.explained_variance_ratio_\n",
        "cumulative_explained_variance_plot(varianza_expl)\n",
        "#Caso 1:\n",
        "componentes_minimos(0.5, X_train)\n",
        "#Caso 2:\n",
        "componentes_minimos(0.75, X_train)\n",
        "#Caso 3:\n",
        "componentes_minimos(0.95, X_train)\n"
      ],
      "execution_count": null,
      "outputs": [
        {
          "output_type": "display_data",
          "data": {
            "image/png": "[encoded data removed]",
            "text/plain": [
              "<Figure size 1050x420 with 1 Axes>"
            ]
          },
          "metadata": {
            "tags": [],
            "needs_background": "light"
          }
        },
        {
          "output_type": "stream",
          "text": [
            "Se necesita por lo menos 3 componentes para una varianza explicada de 0.5.\n",
            "Se necesita por lo menos 14 componentes para una varianza explicada de 0.75.\n",
            "Se necesita por lo menos 187 componentes para una varianza explicada de 0.95.\n"
          ],
          "name": "stdout"
        }
      ]
    },
    {
      "cell_type": "markdown",
      "metadata": {
        "id": "x3mZyYG2qRig"
      },
      "source": [
        "###**C. Construcción y entrenamiento de los modelos:**  "
      ]
    },
    {
      "cell_type": "markdown",
      "metadata": {
        "id": "bQZJDproebdW"
      },
      "source": [
        "Se realiza la reducción de dimensión de componentes para los datos de entrenamiento y se valida cuanta información se pierde de acuerdo al numero de componentes usado, con su transformada inversa:"
      ]
    },
    {
      "cell_type": "code",
      "metadata": {
        "id": "b87Jw0f6nnkT",
        "colab": {
          "base_uri": "https://localhost:8080/",
          "height": 361
        },
        "outputId": "cea16892-7e9c-4931-d0e8-a216649fbffb"
      },
      "source": [
        "X_PCA_3 = pca_transform(X_train, 3, 5)"
      ],
      "execution_count": null,
      "outputs": [
        {
          "output_type": "display_data",
          "data": {
            "image/png": "[encoded data removed]",
            "text/plain": [
              "<Figure size 300x200 with 1 Axes>"
            ]
          },
          "metadata": {
            "tags": [],
            "needs_background": "light"
          }
        },
        {
          "output_type": "display_data",
          "data": {
            "image/png": "[encoded data removed]",
            "text/plain": [
              "<Figure size 300x200 with 1 Axes>"
            ]
          },
          "metadata": {
            "tags": [],
            "needs_background": "light"
          }
        }
      ]
    },
    {
      "cell_type": "code",
      "metadata": {
        "id": "YIHN3z3IqBma",
        "colab": {
          "base_uri": "https://localhost:8080/",
          "height": 361
        },
        "outputId": "ab74d282-0e66-485e-afef-0664cdd52a48"
      },
      "source": [
        "X_PCA_14 = pca_transform(X_train, 14, 5)"
      ],
      "execution_count": null,
      "outputs": [
        {
          "output_type": "display_data",
          "data": {
            "image/png": "[encoded data removed]",
            "text/plain": [
              "<Figure size 300x200 with 1 Axes>"
            ]
          },
          "metadata": {
            "tags": [],
            "needs_background": "light"
          }
        },
        {
          "output_type": "display_data",
          "data": {
            "image/png": "[encoded data removed]",
            "text/plain": [
              "<Figure size 300x200 with 1 Axes>"
            ]
          },
          "metadata": {
            "tags": [],
            "needs_background": "light"
          }
        }
      ]
    },
    {
      "cell_type": "code",
      "metadata": {
        "id": "8gqdZ4WZqBcv",
        "colab": {
          "base_uri": "https://localhost:8080/",
          "height": 361
        },
        "outputId": "b638aca4-fb6d-4dbf-fff8-638ba4426c9e"
      },
      "source": [
        "X_PCA_187 = pca_transform(X_train, 187, 5)"
      ],
      "execution_count": null,
      "outputs": [
        {
          "output_type": "display_data",
          "data": {
            "image/png": "[encoded data removed]",
            "text/plain": [
              "<Figure size 300x200 with 1 Axes>"
            ]
          },
          "metadata": {
            "tags": [],
            "needs_background": "light"
          }
        },
        {
          "output_type": "display_data",
          "data": {
            "image/png": "[encoded data removed]",
            "text/plain": [
              "<Figure size 300x200 with 1 Axes>"
            ]
          },
          "metadata": {
            "tags": [],
            "needs_background": "light"
          }
        }
      ]
    },
    {
      "cell_type": "markdown",
      "metadata": {
        "id": "nOE0hYcYtO3B"
      },
      "source": [
        "Como se puede evidenciar, a medida que se utilizan más componentes se pueden visualizar mayores detalles de la imagen original, teniendo la ventaja que al utilizar PCA se deja de utilizar información que no es relevante para el algoritmo que se piensa desarrollar, ademas que se ahorra tiempo de ejecución.\n"
      ]
    },
    {
      "cell_type": "markdown",
      "metadata": {
        "id": "ZAUe8ldP11cj"
      },
      "source": [
        "Se hayan los modelados usando los datos de entrenamiento del original y los 3 transformados mediante PCA:"
      ]
    },
    {
      "cell_type": "code",
      "metadata": {
        "id": "PJSPJi5uBWrm",
        "colab": {
          "base_uri": "https://localhost:8080/"
        },
        "outputId": "9af41ebd-f5c2-46fe-9129-2afb86c3a0bf"
      },
      "source": [
        "print(\"Accuracy con datos originales:\", \"{:.2f}\".format(np.mean(cross_val_score(GaussianNB(), X_train, y_train, cv=5))))\n",
        "print(\"Accuracy con la representación 3 componentes:\", \"{:.2f}\".format(np.mean(cross_val_score(GaussianNB(), X_PCA_3, y_train, cv=5))))\n",
        "print(\"Accuracy con la representación 14 componentes:\", \"{:.2f}\".format(np.mean(cross_val_score(GaussianNB(), X_PCA_14, y_train, cv=5))))\n",
        "print(\"Accuracy con la representación 187 componentes:\", \"{:.2f}\".format(np.mean(cross_val_score(GaussianNB(), X_PCA_187, y_train, cv=5))))"
      ],
      "execution_count": null,
      "outputs": [
        {
          "output_type": "stream",
          "text": [
            "Accuracy con datos originales: 0.59\n",
            "Accuracy con la representación 3 componentes: 0.57\n",
            "Accuracy con la representación 14 componentes: 0.72\n",
            "Accuracy con la representación 187 componentes: 0.75\n"
          ],
          "name": "stdout"
        }
      ]
    },
    {
      "cell_type": "markdown",
      "metadata": {
        "id": "TVHIiiJArgFq"
      },
      "source": [
        "#***5 - Evaluación.***  "
      ]
    },
    {
      "cell_type": "markdown",
      "metadata": {
        "id": "6AvqUYi-r2eU"
      },
      "source": [
        "###**A. Definición de los criterios o métricas de evaluación:**  "
      ]
    },
    {
      "cell_type": "markdown",
      "metadata": {
        "id": "8OLY7rM0_mft"
      },
      "source": [
        "Por ultimo se realizó el proceso de modelado de clasificación de las imágenes, y comparemos los resultados de los diferentes modelos con los datos de prueba. En este caso usaremos un clasificador bayesiano con el método sklearn.naive_bayes.GaussianNB"
      ]
    },
    {
      "cell_type": "code",
      "metadata": {
        "id": "UOFM7aCS_gUD",
        "colab": {
          "base_uri": "https://localhost:8080/"
        },
        "outputId": "bf88907e-8f77-4069-99d1-60dc1e676acc"
      },
      "source": [
        "import \n",
        "print(\"Accuracy con datos originales:\", \"{:.2f}\".format(np.mean(cross_val_score(GaussianNB(), X_test, y_test, cv=5))))\n",
        "print(\"Accuracy con la representación 3 componentes:\", \"{:.2f}\".format(np.mean(cross_val_score(svc(), pca_transform(X_test, 3, -1), y_test, cv=5))))\n",
        "print(\"Accuracy con la representación 14 componentes:\", \"{:.2f}\".format(np.mean(cross_val_score(svc(), pca_transform(X_test, 14, -1), y_test, cv=5))))\n",
        "print(\"Accuracy con la representación 187 componentes:\", \"{:.2f}\".format(np.mean(cross_val_score(svc(), pca_transform(X_test, 187, -1), y_test, cv=5))))"
      ],
      "execution_count": null,
      "outputs": [
        {
          "output_type": "stream",
          "text": [
            "Accuracy con datos originales: 0.57\n",
            "Accuracy con la representación 3 componentes: 0.57\n",
            "Accuracy con la representación 14 componentes: 0.72\n",
            "Accuracy con la representación 187 componentes: 0.73\n"
          ],
          "name": "stdout"
        }
      ]
    },
    {
      "cell_type": "markdown",
      "metadata": {
        "id": "rH2ogn_NwEs6"
      },
      "source": [
        "Para cumplir el objetivo final, se cargaron a la plataforma Dropbox 10 imagenes de ropa correspondientes a 10 items distintos según la tabla inicial con la información de las etiquetas, se les realizara un procesamiento de imagen para tranformarlas a escala de grises y aplicar un escalamiento a formato 28X28 pixeles:"
      ]
    },
    {
      "cell_type": "code",
      "metadata": {
        "id": "OvDsIhzpoYdv"
      },
      "source": [
        "#Se define un arreglo con fuentes de varias imagenes:\n",
        "URL = (\"https://www.dropbox.com/s/ikh0cxb2gyq1p1o/01.jpeg?dl=1\",\n",
        "       \"https://www.dropbox.com/s/69zjbry1izpxbdw/02.jpeg?dl=1\",\n",
        "       \"https://www.dropbox.com/s/bcpj6efewvejaxx/03.jpeg?dl=1\",\n",
        "       \"https://www.dropbox.com/s/a3rya9qks7v5rrj/04.jpeg?dl=1\",\n",
        "       \"https://www.dropbox.com/s/ffoon94q6fh1328/05.jpeg?dl=1\",\n",
        "       \"https://www.dropbox.com/s/vt8oblaxfk0p3nc/06.jpeg?dl=1\",\n",
        "       \"https://www.dropbox.com/s/73gt9a7tq70mkht/07.jpeg?dl=1\",\n",
        "       \"https://www.dropbox.com/s/z6cvu3tu63huq4z/08.jpeg?dl=1\",\n",
        "       \"https://www.dropbox.com/s/c0k0z152in03djv/09.jpeg?dl=1\",\n",
        "       \"https://www.dropbox.com/s/9kehpio4chrnk1w/10.jpeg?dl=1\",\n",
        "       \"https://www.dropbox.com/s/1o7v07w03xlek99/11.jpeg?dl=1\",\n",
        "       \"https://www.dropbox.com/s/534fjuqa541rxdd/12.jpeg?dl=1\",\n",
        "       \"https://www.dropbox.com/s/50qj5ih2yypk9h8/13.jpeg?dl=1\",\n",
        "       \"https://www.dropbox.com/s/kjvqkxyeno53jee/14.jpeg?dl=1\")\n",
        "\n",
        "Test_Img = X_test[0:14]\n",
        "a = 1\n",
        "for a in range(14):\n",
        "  with urllib.request.urlopen(URL[a]) as url:\n",
        "      with open('temp.jpg', 'wb') as f:\n",
        "          f.write(url.read())\n",
        "  img = Image.open('temp.jpg').convert('LA').resize((28,28))\n",
        "  pix = img.load()\n",
        "  x = 0\n",
        "  for i in range(28):\n",
        "    for j in range(28):\n",
        "      Test_Img[a][x] = 255 - pix[j,i][0]\n",
        "      x = x + 1"
      ],
      "execution_count": null,
      "outputs": []
    },
    {
      "cell_type": "code",
      "metadata": {
        "id": "vXn0xkRcuSH_",
        "colab": {
          "base_uri": "https://localhost:8080/"
        },
        "outputId": "894d3238-4107-4bd6-c243-a6d392649b97"
      },
      "source": [
        "#Se confirma que el tamaño del arreglo: \n",
        "Test_Img.shape"
      ],
      "execution_count": null,
      "outputs": [
        {
          "output_type": "execute_result",
          "data": {
            "text/plain": [
              "(14, 784)"
            ]
          },
          "metadata": {
            "tags": []
          },
          "execution_count": 231
        }
      ]
    },
    {
      "cell_type": "code",
      "metadata": {
        "id": "YKzl--iC6tSp",
        "colab": {
          "base_uri": "https://localhost:8080/",
          "height": 149
        },
        "outputId": "2ba71257-084e-48ec-d6cb-3f6dbf3c6881"
      },
      "source": [
        "# Graficación de datos:\n",
        "fig = plt.figure(figsize=(10,6))\n",
        "i = 0\n",
        "for i in range(14):\n",
        "    ax = fig.add_subplot(5,10,i+1)\n",
        "    plt.imshow(Test_Img[i].reshape(28,28), interpolation=\"nearest\", cmap = plt.cm.Greys_r)\n",
        "    plt.xticks([]); plt.yticks([])"
      ],
      "execution_count": null,
      "outputs": [
        {
          "output_type": "display_data",
          "data": {
            "image/png": "[encoded data removed]",
            "text/plain": [
              "<Figure size 720x432 with 14 Axes>"
            ]
          },
          "metadata": {
            "tags": []
          }
        }
      ]
    },
    {
      "cell_type": "markdown",
      "metadata": {
        "id": "m9Z2zexvz1D1"
      },
      "source": [
        "Una vez ajustadas las imagenes, se procede a probar nuestros modelos con ellas:"
      ]
    },
    {
      "cell_type": "code",
      "metadata": {
        "id": "wpqhnazbzFrN",
        "colab": {
          "base_uri": "https://localhost:8080/"
        },
        "outputId": "d8243cfe-a2f3-4695-9bdf-d5f6c62bc6d7"
      },
      "source": [
        "y_predict_img = model_Ori.predict(Test_Img)\n",
        "y_predict_img"
      ],
      "execution_count": null,
      "outputs": [
        {
          "output_type": "execute_result",
          "data": {
            "text/plain": [
              "array([3, 6, 4, 3, 6, 8, 3, 6, 5, 3, 1, 2, 7, 4])"
            ]
          },
          "metadata": {
            "tags": []
          },
          "execution_count": 233
        }
      ]
    },
    {
      "cell_type": "code",
      "metadata": {
        "id": "fzz54nXl0Nxa",
        "colab": {
          "base_uri": "https://localhost:8080/"
        },
        "outputId": "01b81a10-11eb-44ed-cd07-f24fc341e468"
      },
      "source": [
        "y_predict_img_3 = model_3.predict(pca_transform(Test_Img, 3, -1))\n",
        "y_predict_img_3"
      ],
      "execution_count": null,
      "outputs": [
        {
          "output_type": "execute_result",
          "data": {
            "text/plain": [
              "array([0, 8, 0, 6, 5, 4, 3, 6, 5, 1, 7, 8, 7, 8])"
            ]
          },
          "metadata": {
            "tags": []
          },
          "execution_count": 234
        }
      ]
    },
    {
      "cell_type": "code",
      "metadata": {
        "id": "1VRewB886WAX",
        "colab": {
          "base_uri": "https://localhost:8080/"
        },
        "outputId": "fa64fec4-f2e7-481e-fa21-cca3849dd076"
      },
      "source": [
        "y_predict_img_14 = model_14.predict(pca_transform(Test_Img, 14, -1))\n",
        "y_predict_img_14"
      ],
      "execution_count": null,
      "outputs": [
        {
          "output_type": "execute_result",
          "data": {
            "text/plain": [
              "array([0, 5, 4, 2, 5, 6, 3, 6, 6, 0, 5, 8, 5, 8])"
            ]
          },
          "metadata": {
            "tags": []
          },
          "execution_count": 235
        }
      ]
    },
    {
      "cell_type": "markdown",
      "metadata": {
        "id": "zHdlr1NxsEND"
      },
      "source": [
        "###**B. Análisis de los resultados:** "
      ]
    },
    {
      "cell_type": "markdown",
      "metadata": {
        "id": "0A9Zb_fg5VNP"
      },
      "source": [
        "Como se observo en la etapa de evaluación de los modelos, al utilizar los datos de entrenamiento reducidos se obtiene una mayor precisión que al usar los datos originales, aunque en la primera prueba con el modelo donde se tomo 3 componentes el porcentaje de precisión con los datos reducidos y los datos originales no estuvieron tan alejados al utilizar 14 y187 componentes correspondientes a  mas del 75% de varianza si se obtuvo una mejoría en la precisión a la hora de clasificar.\n",
        "\n",
        "\n",
        "Como se puede evidenciar con las fotografías finales de prueba, no se tiene un buen resultado, pese a que se esperaba lo contrario, esto seguramente se debe a que estas imágenes sufrieron por un arreglo anterior realizado por nosotros y que no cumplía unas pautas y procedimientos para la toma y recolección de los datos definidos por nuestro cliente, estas pautas pueden ser distancias de las prendas, luz a la hora de tomar la fotografía e incluso acomodación de la prenda o del ángulo de toma.\n",
        "En conclusión, se deben realizar nuevos algoritmos de clasificación con el animo de cumplir con la expectativa de nuestro cliente.\n"
      ]
    }
  ]
}